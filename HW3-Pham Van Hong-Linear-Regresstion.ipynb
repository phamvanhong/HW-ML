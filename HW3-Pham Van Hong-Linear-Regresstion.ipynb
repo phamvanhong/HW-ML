{
 "cells": [
  {
   "cell_type": "code",
   "execution_count": 1,
   "id": "badc6799",
   "metadata": {},
   "outputs": [],
   "source": [
    "import numpy as np\n",
    "import matplotlib.pyplot as plt\n",
    "import pandas as pd"
   ]
  },
  {
   "cell_type": "markdown",
   "id": "e080d352",
   "metadata": {},
   "source": [
    "# Problem 2"
   ]
  },
  {
   "cell_type": "code",
   "execution_count": 2,
   "id": "c9cfc9af",
   "metadata": {},
   "outputs": [],
   "source": [
    "df = pd.read_csv(r'https://raw.githubusercontent.com/nttuan8/DL_Tutorial/master/L1/data_linear.csv')"
   ]
  },
  {
   "cell_type": "code",
   "execution_count": 3,
   "id": "710361ff",
   "metadata": {},
   "outputs": [
    {
     "data": {
      "text/html": [
       "<div>\n",
       "<style scoped>\n",
       "    .dataframe tbody tr th:only-of-type {\n",
       "        vertical-align: middle;\n",
       "    }\n",
       "\n",
       "    .dataframe tbody tr th {\n",
       "        vertical-align: top;\n",
       "    }\n",
       "\n",
       "    .dataframe thead th {\n",
       "        text-align: right;\n",
       "    }\n",
       "</style>\n",
       "<table border=\"1\" class=\"dataframe\">\n",
       "  <thead>\n",
       "    <tr style=\"text-align: right;\">\n",
       "      <th></th>\n",
       "      <th>Diện tích</th>\n",
       "      <th>Giá</th>\n",
       "    </tr>\n",
       "  </thead>\n",
       "  <tbody>\n",
       "    <tr>\n",
       "      <th>0</th>\n",
       "      <td>30.0000</td>\n",
       "      <td>448.524</td>\n",
       "    </tr>\n",
       "    <tr>\n",
       "      <th>1</th>\n",
       "      <td>32.4138</td>\n",
       "      <td>509.248</td>\n",
       "    </tr>\n",
       "    <tr>\n",
       "      <th>2</th>\n",
       "      <td>34.8276</td>\n",
       "      <td>535.104</td>\n",
       "    </tr>\n",
       "    <tr>\n",
       "      <th>3</th>\n",
       "      <td>37.2414</td>\n",
       "      <td>551.432</td>\n",
       "    </tr>\n",
       "    <tr>\n",
       "      <th>4</th>\n",
       "      <td>39.6552</td>\n",
       "      <td>623.418</td>\n",
       "    </tr>\n",
       "    <tr>\n",
       "      <th>5</th>\n",
       "      <td>42.0690</td>\n",
       "      <td>625.992</td>\n",
       "    </tr>\n",
       "    <tr>\n",
       "      <th>6</th>\n",
       "      <td>44.4828</td>\n",
       "      <td>655.248</td>\n",
       "    </tr>\n",
       "    <tr>\n",
       "      <th>7</th>\n",
       "      <td>46.8966</td>\n",
       "      <td>701.377</td>\n",
       "    </tr>\n",
       "    <tr>\n",
       "      <th>8</th>\n",
       "      <td>49.3103</td>\n",
       "      <td>748.918</td>\n",
       "    </tr>\n",
       "    <tr>\n",
       "      <th>9</th>\n",
       "      <td>51.7241</td>\n",
       "      <td>757.881</td>\n",
       "    </tr>\n",
       "    <tr>\n",
       "      <th>10</th>\n",
       "      <td>54.1379</td>\n",
       "      <td>831.004</td>\n",
       "    </tr>\n",
       "    <tr>\n",
       "      <th>11</th>\n",
       "      <td>56.5517</td>\n",
       "      <td>855.409</td>\n",
       "    </tr>\n",
       "    <tr>\n",
       "      <th>12</th>\n",
       "      <td>58.9655</td>\n",
       "      <td>866.707</td>\n",
       "    </tr>\n",
       "    <tr>\n",
       "      <th>13</th>\n",
       "      <td>61.3793</td>\n",
       "      <td>902.545</td>\n",
       "    </tr>\n",
       "    <tr>\n",
       "      <th>14</th>\n",
       "      <td>63.7931</td>\n",
       "      <td>952.261</td>\n",
       "    </tr>\n",
       "    <tr>\n",
       "      <th>15</th>\n",
       "      <td>66.2069</td>\n",
       "      <td>995.531</td>\n",
       "    </tr>\n",
       "    <tr>\n",
       "      <th>16</th>\n",
       "      <td>68.6207</td>\n",
       "      <td>1069.780</td>\n",
       "    </tr>\n",
       "    <tr>\n",
       "      <th>17</th>\n",
       "      <td>71.0345</td>\n",
       "      <td>1074.420</td>\n",
       "    </tr>\n",
       "    <tr>\n",
       "      <th>18</th>\n",
       "      <td>73.4483</td>\n",
       "      <td>1103.880</td>\n",
       "    </tr>\n",
       "    <tr>\n",
       "      <th>19</th>\n",
       "      <td>75.8621</td>\n",
       "      <td>1138.690</td>\n",
       "    </tr>\n",
       "    <tr>\n",
       "      <th>20</th>\n",
       "      <td>78.2759</td>\n",
       "      <td>1153.130</td>\n",
       "    </tr>\n",
       "    <tr>\n",
       "      <th>21</th>\n",
       "      <td>80.6897</td>\n",
       "      <td>1240.270</td>\n",
       "    </tr>\n",
       "    <tr>\n",
       "      <th>22</th>\n",
       "      <td>83.1034</td>\n",
       "      <td>1251.900</td>\n",
       "    </tr>\n",
       "    <tr>\n",
       "      <th>23</th>\n",
       "      <td>85.5172</td>\n",
       "      <td>1287.970</td>\n",
       "    </tr>\n",
       "    <tr>\n",
       "      <th>24</th>\n",
       "      <td>87.9310</td>\n",
       "      <td>1320.470</td>\n",
       "    </tr>\n",
       "    <tr>\n",
       "      <th>25</th>\n",
       "      <td>90.3448</td>\n",
       "      <td>1374.920</td>\n",
       "    </tr>\n",
       "    <tr>\n",
       "      <th>26</th>\n",
       "      <td>92.7586</td>\n",
       "      <td>1410.160</td>\n",
       "    </tr>\n",
       "    <tr>\n",
       "      <th>27</th>\n",
       "      <td>95.1724</td>\n",
       "      <td>1469.690</td>\n",
       "    </tr>\n",
       "    <tr>\n",
       "      <th>28</th>\n",
       "      <td>97.5862</td>\n",
       "      <td>1478.540</td>\n",
       "    </tr>\n",
       "    <tr>\n",
       "      <th>29</th>\n",
       "      <td>100.0000</td>\n",
       "      <td>1515.280</td>\n",
       "    </tr>\n",
       "  </tbody>\n",
       "</table>\n",
       "</div>"
      ],
      "text/plain": [
       "    Diện tích       Giá\n",
       "0     30.0000   448.524\n",
       "1     32.4138   509.248\n",
       "2     34.8276   535.104\n",
       "3     37.2414   551.432\n",
       "4     39.6552   623.418\n",
       "5     42.0690   625.992\n",
       "6     44.4828   655.248\n",
       "7     46.8966   701.377\n",
       "8     49.3103   748.918\n",
       "9     51.7241   757.881\n",
       "10    54.1379   831.004\n",
       "11    56.5517   855.409\n",
       "12    58.9655   866.707\n",
       "13    61.3793   902.545\n",
       "14    63.7931   952.261\n",
       "15    66.2069   995.531\n",
       "16    68.6207  1069.780\n",
       "17    71.0345  1074.420\n",
       "18    73.4483  1103.880\n",
       "19    75.8621  1138.690\n",
       "20    78.2759  1153.130\n",
       "21    80.6897  1240.270\n",
       "22    83.1034  1251.900\n",
       "23    85.5172  1287.970\n",
       "24    87.9310  1320.470\n",
       "25    90.3448  1374.920\n",
       "26    92.7586  1410.160\n",
       "27    95.1724  1469.690\n",
       "28    97.5862  1478.540\n",
       "29   100.0000  1515.280"
      ]
     },
     "execution_count": 3,
     "metadata": {},
     "output_type": "execute_result"
    }
   ],
   "source": [
    "df"
   ]
  },
  {
   "cell_type": "code",
   "execution_count": 4,
   "id": "dbec09e6",
   "metadata": {},
   "outputs": [],
   "source": [
    "df.columns = ['Area', 'Price']"
   ]
  },
  {
   "cell_type": "code",
   "execution_count": 5,
   "id": "233b4039",
   "metadata": {},
   "outputs": [
    {
     "data": {
      "text/html": [
       "<div>\n",
       "<style scoped>\n",
       "    .dataframe tbody tr th:only-of-type {\n",
       "        vertical-align: middle;\n",
       "    }\n",
       "\n",
       "    .dataframe tbody tr th {\n",
       "        vertical-align: top;\n",
       "    }\n",
       "\n",
       "    .dataframe thead th {\n",
       "        text-align: right;\n",
       "    }\n",
       "</style>\n",
       "<table border=\"1\" class=\"dataframe\">\n",
       "  <thead>\n",
       "    <tr style=\"text-align: right;\">\n",
       "      <th></th>\n",
       "      <th>Area</th>\n",
       "      <th>Price</th>\n",
       "    </tr>\n",
       "  </thead>\n",
       "  <tbody>\n",
       "    <tr>\n",
       "      <th>0</th>\n",
       "      <td>30.0000</td>\n",
       "      <td>448.524</td>\n",
       "    </tr>\n",
       "    <tr>\n",
       "      <th>1</th>\n",
       "      <td>32.4138</td>\n",
       "      <td>509.248</td>\n",
       "    </tr>\n",
       "    <tr>\n",
       "      <th>2</th>\n",
       "      <td>34.8276</td>\n",
       "      <td>535.104</td>\n",
       "    </tr>\n",
       "    <tr>\n",
       "      <th>3</th>\n",
       "      <td>37.2414</td>\n",
       "      <td>551.432</td>\n",
       "    </tr>\n",
       "    <tr>\n",
       "      <th>4</th>\n",
       "      <td>39.6552</td>\n",
       "      <td>623.418</td>\n",
       "    </tr>\n",
       "  </tbody>\n",
       "</table>\n",
       "</div>"
      ],
      "text/plain": [
       "      Area    Price\n",
       "0  30.0000  448.524\n",
       "1  32.4138  509.248\n",
       "2  34.8276  535.104\n",
       "3  37.2414  551.432\n",
       "4  39.6552  623.418"
      ]
     },
     "execution_count": 5,
     "metadata": {},
     "output_type": "execute_result"
    }
   ],
   "source": [
    "df.head()"
   ]
  },
  {
   "cell_type": "markdown",
   "id": "72aefab7",
   "metadata": {},
   "source": [
    "# a, Vẽ model dự đoán và dữ liệu\""
   ]
  },
  {
   "cell_type": "code",
   "execution_count": 6,
   "id": "f0bc3fbd",
   "metadata": {},
   "outputs": [],
   "source": [
    "area = np.array([df['Area']]).T"
   ]
  },
  {
   "cell_type": "code",
   "execution_count": 7,
   "id": "3d99b4c1",
   "metadata": {},
   "outputs": [
    {
     "data": {
      "text/plain": [
       "array([[ 30.    ],\n",
       "       [ 32.4138],\n",
       "       [ 34.8276],\n",
       "       [ 37.2414],\n",
       "       [ 39.6552],\n",
       "       [ 42.069 ],\n",
       "       [ 44.4828],\n",
       "       [ 46.8966],\n",
       "       [ 49.3103],\n",
       "       [ 51.7241],\n",
       "       [ 54.1379],\n",
       "       [ 56.5517],\n",
       "       [ 58.9655],\n",
       "       [ 61.3793],\n",
       "       [ 63.7931],\n",
       "       [ 66.2069],\n",
       "       [ 68.6207],\n",
       "       [ 71.0345],\n",
       "       [ 73.4483],\n",
       "       [ 75.8621],\n",
       "       [ 78.2759],\n",
       "       [ 80.6897],\n",
       "       [ 83.1034],\n",
       "       [ 85.5172],\n",
       "       [ 87.931 ],\n",
       "       [ 90.3448],\n",
       "       [ 92.7586],\n",
       "       [ 95.1724],\n",
       "       [ 97.5862],\n",
       "       [100.    ]])"
      ]
     },
     "execution_count": 7,
     "metadata": {},
     "output_type": "execute_result"
    }
   ],
   "source": [
    "area"
   ]
  },
  {
   "cell_type": "code",
   "execution_count": 8,
   "id": "03500cc7",
   "metadata": {},
   "outputs": [],
   "source": [
    "price = np.array([df['Price']]).T"
   ]
  },
  {
   "cell_type": "code",
   "execution_count": 9,
   "id": "4aee6f90",
   "metadata": {},
   "outputs": [
    {
     "data": {
      "text/plain": [
       "array([[ 448.524],\n",
       "       [ 509.248],\n",
       "       [ 535.104],\n",
       "       [ 551.432],\n",
       "       [ 623.418],\n",
       "       [ 625.992],\n",
       "       [ 655.248],\n",
       "       [ 701.377],\n",
       "       [ 748.918],\n",
       "       [ 757.881],\n",
       "       [ 831.004],\n",
       "       [ 855.409],\n",
       "       [ 866.707],\n",
       "       [ 902.545],\n",
       "       [ 952.261],\n",
       "       [ 995.531],\n",
       "       [1069.78 ],\n",
       "       [1074.42 ],\n",
       "       [1103.88 ],\n",
       "       [1138.69 ],\n",
       "       [1153.13 ],\n",
       "       [1240.27 ],\n",
       "       [1251.9  ],\n",
       "       [1287.97 ],\n",
       "       [1320.47 ],\n",
       "       [1374.92 ],\n",
       "       [1410.16 ],\n",
       "       [1469.69 ],\n",
       "       [1478.54 ],\n",
       "       [1515.28 ]])"
      ]
     },
     "execution_count": 9,
     "metadata": {},
     "output_type": "execute_result"
    }
   ],
   "source": [
    "price"
   ]
  },
  {
   "cell_type": "code",
   "execution_count": 10,
   "id": "28cda01f",
   "metadata": {},
   "outputs": [
    {
     "data": {
      "text/plain": [
       "Text(0, 0.5, 'House Price')"
      ]
     },
     "execution_count": 10,
     "metadata": {},
     "output_type": "execute_result"
    },
    {
     "data": {
      "image/png": "[encoded data removed]",
      "text/plain": [
       "<Figure size 432x288 with 1 Axes>"
      ]
     },
     "metadata": {
      "needs_background": "light"
     },
     "output_type": "display_data"
    }
   ],
   "source": [
    "plt.plot(area, price, 'ro')\n",
    "plt.xlabel('House Area')\n",
    "plt.ylabel('House Price')"
   ]
  },
  {
   "cell_type": "markdown",
   "id": "a9ff0da5",
   "metadata": {},
   "source": [
    "Creating the area vector"
   ]
  },
  {
   "cell_type": "code",
   "execution_count": 11,
   "id": "b362fb07",
   "metadata": {},
   "outputs": [],
   "source": [
    "matrix_1 = np.ones((area.shape[0], 1))"
   ]
  },
  {
   "cell_type": "code",
   "execution_count": 12,
   "id": "c24991de",
   "metadata": {},
   "outputs": [],
   "source": [
    "area_vector = np.concatenate((matrix_1, area), axis = 1)"
   ]
  },
  {
   "cell_type": "markdown",
   "id": "dabc3723",
   "metadata": {},
   "source": [
    "Calculating the weights"
   ]
  },
  {
   "cell_type": "code",
   "execution_count": 13,
   "id": "04b06f81",
   "metadata": {},
   "outputs": [],
   "source": [
    "first_term = np.dot(area_vector.T, area_vector)\n",
    "second_term = np.dot(area_vector.T, price)"
   ]
  },
  {
   "cell_type": "code",
   "execution_count": 14,
   "id": "fae236e3",
   "metadata": {},
   "outputs": [],
   "source": [
    "w = np.dot(np.linalg.pinv(first_term), second_term)"
   ]
  },
  {
   "cell_type": "code",
   "execution_count": 15,
   "id": "d4e3fa6c",
   "metadata": {},
   "outputs": [
    {
     "data": {
      "text/plain": [
       "array([[-7.06426865],\n",
       "       [15.2110908 ]])"
      ]
     },
     "execution_count": 15,
     "metadata": {},
     "output_type": "execute_result"
    }
   ],
   "source": [
    "w"
   ]
  },
  {
   "cell_type": "code",
   "execution_count": 16,
   "id": "7a2360d7",
   "metadata": {},
   "outputs": [],
   "source": [
    "w0 = w[0][0]\n",
    "w1 = w[1][0]"
   ]
  },
  {
   "cell_type": "code",
   "execution_count": 21,
   "id": "194feb83",
   "metadata": {},
   "outputs": [],
   "source": [
    "#The form of prediction model:\n",
    "x0 = np.linspace(30, 100, 2)\n",
    "y0 = w1*x0 + w0"
   ]
  },
  {
   "cell_type": "code",
   "execution_count": 22,
   "id": "519b6c08",
   "metadata": {},
   "outputs": [
    {
     "data": {
      "text/plain": [
       "Text(0, 0.5, 'House Price')"
      ]
     },
     "execution_count": 22,
     "metadata": {},
     "output_type": "execute_result"
    },
    {
     "data": {
      "image/png": "[encoded data removed]",
      "text/plain": [
       "<Figure size 432x288 with 1 Axes>"
      ]
     },
     "metadata": {
      "needs_background": "light"
     },
     "output_type": "display_data"
    }
   ],
   "source": [
    "plt.plot(area.T, price.T, 'ro') \n",
    "plt.plot(x0, y0)               \n",
    "plt.xlabel('House Area')\n",
    "plt.ylabel('House Price')"
   ]
  },
  {
   "cell_type": "markdown",
   "id": "7df12d55",
   "metadata": {},
   "source": [
    "# b, Dự đoán giá nhà"
   ]
  },
  {
   "cell_type": "code",
   "execution_count": 25,
   "id": "aed1d641",
   "metadata": {},
   "outputs": [
    {
     "name": "stdout",
     "output_type": "stream",
     "text": [
      "Giá nhà có diện tích 50:  753.4902713382899\n",
      "Giá nhà có diện tích 50:  1514.0448113217808\n",
      "Giá nhà có diện tích 50:  2274.5993513052717\n"
     ]
    }
   ],
   "source": [
    "area_50 = w1*50 + w0\n",
    "area_100 = w1*100 + w0\n",
    "area_150 = w1*150 + w0\n",
    "print(\"Giá nhà có diện tích 50: \", area_50)\n",
    "print(\"Giá nhà có diện tích 50: \", area_100)\n",
    "print(\"Giá nhà có diện tích 50: \", area_150)"
   ]
  },
  {
   "cell_type": "code",
   "execution_count": null,
   "id": "d2ea73bd",
   "metadata": {},
   "outputs": [],
   "source": []
  }
 ],
 "metadata": {
  "kernelspec": {
   "display_name": "Python 3",
   "language": "python",
   "name": "python3"
  },
  "language_info": {
   "codemirror_mode": {
    "name": "ipython",
    "version": 3
   },
   "file_extension": ".py",
   "mimetype": "text/x-python",
   "name": "python",
   "nbconvert_exporter": "python",
   "pygments_lexer": "ipython3",
   "version": "3.8.8"
  }
 },
 "nbformat": 4,
 "nbformat_minor": 5
}
