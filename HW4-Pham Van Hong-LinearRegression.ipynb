{
 "cells": [
  {
   "cell_type": "code",
   "execution_count": 69,
   "id": "a60c9520",
   "metadata": {},
   "outputs": [],
   "source": [
    "import pandas as pd\n",
    "import numpy as np\n",
    "import matplotlib.pyplot as plt"
   ]
  },
  {
   "cell_type": "markdown",
   "id": "dbf2ea5c",
   "metadata": {},
   "source": [
    "# Problem 1:"
   ]
  },
  {
   "cell_type": "code",
   "execution_count": 70,
   "id": "91a6ee8e",
   "metadata": {},
   "outputs": [],
   "source": [
    "data = pd.read_csv('https://raw.githubusercontent.com/nttuan8/DL_Tutorial/master/L1/data_square.csv')"
   ]
  },
  {
   "cell_type": "code",
   "execution_count": 71,
   "id": "9fd54ce3",
   "metadata": {},
   "outputs": [],
   "source": [
    "data.columns = ['Area', 'Price']"
   ]
  },
  {
   "cell_type": "code",
   "execution_count": 72,
   "id": "ce74f802",
   "metadata": {},
   "outputs": [
    {
     "data": {
      "text/html": [
       "<div>\n",
       "<style scoped>\n",
       "    .dataframe tbody tr th:only-of-type {\n",
       "        vertical-align: middle;\n",
       "    }\n",
       "\n",
       "    .dataframe tbody tr th {\n",
       "        vertical-align: top;\n",
       "    }\n",
       "\n",
       "    .dataframe thead th {\n",
       "        text-align: right;\n",
       "    }\n",
       "</style>\n",
       "<table border=\"1\" class=\"dataframe\">\n",
       "  <thead>\n",
       "    <tr style=\"text-align: right;\">\n",
       "      <th></th>\n",
       "      <th>Area</th>\n",
       "      <th>Price</th>\n",
       "    </tr>\n",
       "  </thead>\n",
       "  <tbody>\n",
       "    <tr>\n",
       "      <th>0</th>\n",
       "      <td>30.0000</td>\n",
       "      <td>-100.000</td>\n",
       "    </tr>\n",
       "    <tr>\n",
       "      <th>1</th>\n",
       "      <td>32.4138</td>\n",
       "      <td>-190.725</td>\n",
       "    </tr>\n",
       "    <tr>\n",
       "      <th>2</th>\n",
       "      <td>34.8276</td>\n",
       "      <td>-269.798</td>\n",
       "    </tr>\n",
       "    <tr>\n",
       "      <th>3</th>\n",
       "      <td>37.2414</td>\n",
       "      <td>-337.218</td>\n",
       "    </tr>\n",
       "    <tr>\n",
       "      <th>4</th>\n",
       "      <td>39.6552</td>\n",
       "      <td>-392.985</td>\n",
       "    </tr>\n",
       "  </tbody>\n",
       "</table>\n",
       "</div>"
      ],
      "text/plain": [
       "      Area    Price\n",
       "0  30.0000 -100.000\n",
       "1  32.4138 -190.725\n",
       "2  34.8276 -269.798\n",
       "3  37.2414 -337.218\n",
       "4  39.6552 -392.985"
      ]
     },
     "execution_count": 72,
     "metadata": {},
     "output_type": "execute_result"
    }
   ],
   "source": [
    "data.head()"
   ]
  },
  {
   "cell_type": "code",
   "execution_count": 73,
   "id": "cc17a51b",
   "metadata": {},
   "outputs": [],
   "source": [
    "X = np.array(data['Area'])"
   ]
  },
  {
   "cell_type": "code",
   "execution_count": 74,
   "id": "61f80767",
   "metadata": {},
   "outputs": [],
   "source": [
    "Y = np.array(data['Price'])"
   ]
  },
  {
   "cell_type": "code",
   "execution_count": 75,
   "id": "41c7baeb",
   "metadata": {},
   "outputs": [],
   "source": [
    "curve = np.polyfit(X,Y,2)"
   ]
  },
  {
   "cell_type": "code",
   "execution_count": 76,
   "id": "10b0970e",
   "metadata": {},
   "outputs": [
    {
     "data": {
      "text/plain": [
       "array([ 1.00000199e+00, -1.00000222e+02,  2.00000579e+03])"
      ]
     },
     "execution_count": 76,
     "metadata": {},
     "output_type": "execute_result"
    }
   ],
   "source": [
    "curve"
   ]
  },
  {
   "cell_type": "code",
   "execution_count": 77,
   "id": "6e864b65",
   "metadata": {},
   "outputs": [],
   "source": [
    "#making the polynomial fomular\n",
    "p = np.poly1d(curve)"
   ]
  },
  {
   "cell_type": "code",
   "execution_count": 78,
   "id": "63d249b8",
   "metadata": {},
   "outputs": [
    {
     "name": "stdout",
     "output_type": "stream",
     "text": [
      "   2\n",
      "1 x - 100 x + 2000\n"
     ]
    }
   ],
   "source": [
    "print(p)"
   ]
  },
  {
   "cell_type": "code",
   "execution_count": 79,
   "id": "0384cdb4",
   "metadata": {},
   "outputs": [],
   "source": [
    "new_y_values = list()"
   ]
  },
  {
   "cell_type": "code",
   "execution_count": 80,
   "id": "cb931322",
   "metadata": {},
   "outputs": [],
   "source": [
    "for value in X:\n",
    "    new_y_values.append(p(value))"
   ]
  },
  {
   "cell_type": "code",
   "execution_count": 81,
   "id": "38b6e7ac",
   "metadata": {},
   "outputs": [
    {
     "data": {
      "text/plain": [
       "[-99.99908081969988,\n",
       " -190.7248870952276,\n",
       " -269.797809326265,\n",
       " -337.21784751281575,\n",
       " -392.9850016548776,\n",
       " -437.09927175245093,\n",
       " -469.5606578055358,\n",
       " -490.3691598141327,\n",
       " -499.5246398456311,\n",
       " -497.02785652621105,\n",
       " -482.8781891623016,\n",
       " -457.07563775390463,\n",
       " -419.62020230101916,\n",
       " -370.51188280364477,\n",
       " -309.75067926178235,\n",
       " -237.336591675431,\n",
       " -153.26962004459165,\n",
       " -57.54976436926472,\n",
       " 49.822975350551815,\n",
       " 168.84859911485637,\n",
       " 299.5271069236494,\n",
       " 441.8584987769302,\n",
       " 595.836153973873,\n",
       " 761.4728311551723,\n",
       " 938.7623923809592,\n",
       " 1127.7048376512355,\n",
       " 1328.3001669659977,\n",
       " 1540.5483803252496,\n",
       " 1764.4494777289913,\n",
       " 2000.00345917722]"
      ]
     },
     "execution_count": 81,
     "metadata": {},
     "output_type": "execute_result"
    }
   ],
   "source": [
    "new_y_values"
   ]
  },
  {
   "cell_type": "code",
   "execution_count": 82,
   "id": "dff83410",
   "metadata": {},
   "outputs": [
    {
     "data": {
      "text/plain": [
       "<matplotlib.collections.PathCollection at 0x2426e369190>"
      ]
     },
     "execution_count": 82,
     "metadata": {},
     "output_type": "execute_result"
    },
    {
     "data": {
      "image/png": "[encoded data removed]",
      "text/plain": [
       "<Figure size 432x288 with 1 Axes>"
      ]
     },
     "metadata": {
      "needs_background": "light"
     },
     "output_type": "display_data"
    }
   ],
   "source": [
    "plt.plot(X, new_y_values)\n",
    "plt.scatter(X, Y)"
   ]
  },
  {
   "cell_type": "markdown",
   "id": "6cccffb8",
   "metadata": {},
   "source": [
    "# Problem 2"
   ]
  },
  {
   "cell_type": "markdown",
   "id": "0f15ba9f",
   "metadata": {},
   "source": [
    "2-a:"
   ]
  },
  {
   "cell_type": "code",
   "execution_count": 83,
   "id": "48913279",
   "metadata": {},
   "outputs": [],
   "source": [
    "X1= [0,0.2,0.25,0.3,0.45,0.5,0.7,0.8,0.85,1]\n",
    "Y1= [0.3,0.75,1,0.9,0,0.05,-0.95,-0.5,-0.6,0.2]"
   ]
  },
  {
   "cell_type": "code",
   "execution_count": 84,
   "id": "5639ac4e",
   "metadata": {},
   "outputs": [
    {
     "data": {
      "text/plain": [
       "[<matplotlib.lines.Line2D at 0x2426e3f96d0>]"
      ]
     },
     "execution_count": 84,
     "metadata": {},
     "output_type": "execute_result"
    },
    {
     "data": {
      "image/png": "[encoded data removed]",
      "text/plain": [
       "<Figure size 432x288 with 1 Axes>"
      ]
     },
     "metadata": {
      "needs_background": "light"
     },
     "output_type": "display_data"
    }
   ],
   "source": [
    "plt.plot(X1,Y1)"
   ]
  },
  {
   "cell_type": "code",
   "execution_count": 85,
   "id": "fc4b8f7c",
   "metadata": {},
   "outputs": [],
   "source": [
    "#Constant polynomial\n",
    "curve1 = np.polyfit(X1,Y1,0)"
   ]
  },
  {
   "cell_type": "code",
   "execution_count": 86,
   "id": "eabd8b02",
   "metadata": {},
   "outputs": [
    {
     "data": {
      "text/plain": [
       "array([0.115])"
      ]
     },
     "execution_count": 86,
     "metadata": {},
     "output_type": "execute_result"
    }
   ],
   "source": [
    "curve1"
   ]
  },
  {
   "cell_type": "code",
   "execution_count": 87,
   "id": "760ef0ed",
   "metadata": {},
   "outputs": [],
   "source": [
    "#making the polynomial p1:\n",
    "p1 = np.poly1d(curve1)"
   ]
  },
  {
   "cell_type": "code",
   "execution_count": 88,
   "id": "192cf23b",
   "metadata": {},
   "outputs": [
    {
     "data": {
      "text/plain": [
       "poly1d([0.115])"
      ]
     },
     "execution_count": 88,
     "metadata": {},
     "output_type": "execute_result"
    }
   ],
   "source": [
    "p1"
   ]
  },
  {
   "cell_type": "code",
   "execution_count": 89,
   "id": "db05cffc",
   "metadata": {},
   "outputs": [],
   "source": [
    "new_y1_values = list()"
   ]
  },
  {
   "cell_type": "code",
   "execution_count": 90,
   "id": "ccc61a35",
   "metadata": {},
   "outputs": [],
   "source": [
    "for value in X1:\n",
    "    value = p1(value)\n",
    "    new_y1_values.append(value)"
   ]
  },
  {
   "cell_type": "code",
   "execution_count": 91,
   "id": "c7335d2f",
   "metadata": {},
   "outputs": [
    {
     "data": {
      "text/plain": [
       "[0.11499999999999999,\n",
       " 0.11499999999999999,\n",
       " 0.11499999999999999,\n",
       " 0.11499999999999999,\n",
       " 0.11499999999999999,\n",
       " 0.11499999999999999,\n",
       " 0.11499999999999999,\n",
       " 0.11499999999999999,\n",
       " 0.11499999999999999,\n",
       " 0.11499999999999999]"
      ]
     },
     "execution_count": 91,
     "metadata": {},
     "output_type": "execute_result"
    }
   ],
   "source": [
    "new_y1_values"
   ]
  },
  {
   "cell_type": "code",
   "execution_count": 92,
   "id": "f45e237e",
   "metadata": {},
   "outputs": [
    {
     "data": {
      "image/png": "[encoded data removed]",
      "text/plain": [
       "<Figure size 432x288 with 1 Axes>"
      ]
     },
     "metadata": {
      "needs_background": "light"
     },
     "output_type": "display_data"
    }
   ],
   "source": [
    "plt.plot(X1, new_y1_values)\n",
    "plt.scatter(X1, Y1)\n",
    "plt.show()"
   ]
  },
  {
   "cell_type": "code",
   "execution_count": 93,
   "id": "4c595636",
   "metadata": {},
   "outputs": [],
   "source": [
    "#first degree polynomial\n",
    "curve2 = np.polyfit(X1,Y1,1)\n",
    "p2 = np.poly1d(curve2)"
   ]
  },
  {
   "cell_type": "code",
   "execution_count": 94,
   "id": "04bc0c63",
   "metadata": {},
   "outputs": [],
   "source": [
    "new_y2_values = list()"
   ]
  },
  {
   "cell_type": "code",
   "execution_count": 95,
   "id": "919fa076",
   "metadata": {},
   "outputs": [],
   "source": [
    "for value in X1:\n",
    "    value = p2(value)\n",
    "    new_y2_values.append(value)"
   ]
  },
  {
   "cell_type": "code",
   "execution_count": 96,
   "id": "50023a58",
   "metadata": {},
   "outputs": [
    {
     "data": {
      "image/png": "[encoded data removed]",
      "text/plain": [
       "<Figure size 432x288 with 1 Axes>"
      ]
     },
     "metadata": {
      "needs_background": "light"
     },
     "output_type": "display_data"
    }
   ],
   "source": [
    "plt.plot(X1, new_y2_values)\n",
    "plt.scatter(X1, Y1)\n",
    "plt.show()"
   ]
  },
  {
   "cell_type": "code",
   "execution_count": 97,
   "id": "6671bd67",
   "metadata": {},
   "outputs": [],
   "source": [
    "#third degree polynomial\n",
    "curve3 = np.polyfit(X1,Y1,3)\n",
    "p3 = np.poly1d(curve3)"
   ]
  },
  {
   "cell_type": "code",
   "execution_count": 98,
   "id": "21775630",
   "metadata": {},
   "outputs": [],
   "source": [
    "new_y3_values = list()"
   ]
  },
  {
   "cell_type": "code",
   "execution_count": 99,
   "id": "9733f6a3",
   "metadata": {},
   "outputs": [],
   "source": [
    "for value in X1:\n",
    "    value = p3(value)\n",
    "    new_y3_values.append(value)"
   ]
  },
  {
   "cell_type": "code",
   "execution_count": 100,
   "id": "9964503b",
   "metadata": {},
   "outputs": [
    {
     "data": {
      "image/png": "[encoded data removed]",
      "text/plain": [
       "<Figure size 432x288 with 1 Axes>"
      ]
     },
     "metadata": {
      "needs_background": "light"
     },
     "output_type": "display_data"
    }
   ],
   "source": [
    "plt.plot(X1, new_y3_values)\n",
    "plt.scatter(X1, Y1)\n",
    "plt.show()"
   ]
  },
  {
   "cell_type": "code",
   "execution_count": 103,
   "id": "480350fc",
   "metadata": {},
   "outputs": [],
   "source": [
    "#sixth degree polynomial\n",
    "curve4 = np.polyfit(X1,Y1,6)\n",
    "p4 = np.poly1d(curve4)"
   ]
  },
  {
   "cell_type": "code",
   "execution_count": 104,
   "id": "43fde072",
   "metadata": {},
   "outputs": [],
   "source": [
    "new_y4_values = list()"
   ]
  },
  {
   "cell_type": "code",
   "execution_count": 105,
   "id": "9ad44fbf",
   "metadata": {},
   "outputs": [],
   "source": [
    "for value in X1:\n",
    "    value = p4(value)\n",
    "    new_y4_values.append(value)"
   ]
  },
  {
   "cell_type": "code",
   "execution_count": 106,
   "id": "6f33f23c",
   "metadata": {},
   "outputs": [
    {
     "data": {
      "image/png": "[encoded data removed]",
      "text/plain": [
       "<Figure size 432x288 with 1 Axes>"
      ]
     },
     "metadata": {
      "needs_background": "light"
     },
     "output_type": "display_data"
    }
   ],
   "source": [
    "plt.plot(X1, new_y4_values)\n",
    "plt.scatter(X1, Y1)\n",
    "plt.show()"
   ]
  },
  {
   "cell_type": "code",
   "execution_count": 108,
   "id": "07a79f71",
   "metadata": {},
   "outputs": [],
   "source": [
    "#ninth degree polynomial\n",
    "curve5 = np.polyfit(X1,Y1,9)\n",
    "p5 = np.poly1d(curve5)"
   ]
  },
  {
   "cell_type": "code",
   "execution_count": 109,
   "id": "c18aff32",
   "metadata": {},
   "outputs": [],
   "source": [
    "new_y5_values = list()"
   ]
  },
  {
   "cell_type": "code",
   "execution_count": 110,
   "id": "25552647",
   "metadata": {},
   "outputs": [],
   "source": [
    "for value in X1:\n",
    "    value = p5(value)\n",
    "    new_y5_values.append(value)"
   ]
  },
  {
   "cell_type": "code",
   "execution_count": 111,
   "id": "b0f6f491",
   "metadata": {},
   "outputs": [
    {
     "data": {
      "image/png": "[encoded data removed]",
      "text/plain": [
       "<Figure size 432x288 with 1 Axes>"
      ]
     },
     "metadata": {
      "needs_background": "light"
     },
     "output_type": "display_data"
    }
   ],
   "source": [
    "plt.plot(X1, new_y4_values)\n",
    "plt.scatter(X1, Y1)\n",
    "plt.show()"
   ]
  },
  {
   "cell_type": "code",
   "execution_count": null,
   "id": "89aa42c0",
   "metadata": {},
   "outputs": [],
   "source": []
  }
 ],
 "metadata": {
  "kernelspec": {
   "display_name": "Python 3",
   "language": "python",
   "name": "python3"
  },
  "language_info": {
   "codemirror_mode": {
    "name": "ipython",
    "version": 3
   },
   "file_extension": ".py",
   "mimetype": "text/x-python",
   "name": "python",
   "nbconvert_exporter": "python",
   "pygments_lexer": "ipython3",
   "version": "3.8.8"
  }
 },
 "nbformat": 4,
 "nbformat_minor": 5
}
